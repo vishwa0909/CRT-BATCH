{
 "cells": [
  {
   "cell_type": "code",
   "execution_count": 4,
   "metadata": {},
   "outputs": [
    {
     "name": "stdout",
     "output_type": "stream",
     "text": [
      "6\n"
     ]
    }
   ],
   "source": [
    "def evendigitssum(n):\n",
    "    s=0\n",
    "    while n!=0:\n",
    "        r=n%10\n",
    "        if r%2==0:\n",
    "            s=s+r\n",
    "        n=n//10\n",
    "    print(s)\n",
    "evendigitssum(1234)"
   ]
  },
  {
   "cell_type": "code",
   "execution_count": 3,
   "metadata": {},
   "outputs": [
    {
     "data": {
      "text/plain": [
       "5"
      ]
     },
     "execution_count": 3,
     "metadata": {},
     "output_type": "execute_result"
    }
   ],
   "source": [
    "def largenumber(n):\n",
    "    large=0\n",
    "    while n!=0:\n",
    "        r=n%10\n",
    "        if large<r:\n",
    "            large=r\n",
    "        n=n//10\n",
    "    return large\n",
    "l=largenumber(12345)\n",
    "l"
   ]
  },
  {
   "cell_type": "code",
   "execution_count": 6,
   "metadata": {},
   "outputs": [],
   "source": [
    "#retuen allocates some memory and stores the value\n",
    "#print directly prints the consol"
   ]
  },
  {
   "cell_type": "code",
   "execution_count": 7,
   "metadata": {},
   "outputs": [],
   "source": [
    "#Strong number: 145=1!+4!=5!"
   ]
  },
  {
   "cell_type": "markdown",
   "metadata": {},
   "source": [
    "# collection Types:"
   ]
  },
  {
   "cell_type": "markdown",
   "metadata": {},
   "source": [
    "1.list\n",
    "2.tuple\n",
    "3.set\n",
    "4.Dictionary"
   ]
  },
  {
   "cell_type": "markdown",
   "metadata": {},
   "source": [
    "List:\n",
    "- One of the data type available in python\n",
    "- list is enclosed by []\n",
    "- elements in list are separated by (,)\n",
    "   "
   ]
  },
  {
   "cell_type": "code",
   "execution_count": 30,
   "metadata": {},
   "outputs": [
    {
     "name": "stdout",
     "output_type": "stream",
     "text": [
      "[1, 2, 'abc', 'sai', 3]\n",
      "<class 'list'>\n",
      "3\n",
      "1\n",
      "[2, 'abc']\n",
      "[2, 'sai']\n",
      "[1, 2, 'abc']\n",
      "[3]\n",
      "['abc', 'sai', 3]\n",
      "[1, 'abc', 3]\n"
     ]
    }
   ],
   "source": [
    "list=[1,2,\"abc\",\"sai\",3]\n",
    "print(list)\n",
    "print(type(list))\n",
    "print(list[-1]) #Negative Indexing from right to left\n",
    "print(list[0])  #positive indexing from left to right\n",
    "print(list[1:3]) #slicing\n",
    "print(list[1:4:2]) #slicing and step ie skipping.\n",
    "print(list[0:-2])\n",
    "print(list[-1:])\n",
    "print(list[-3:])\n",
    "print(list[::2])"
   ]
  },
  {
   "cell_type": "code",
   "execution_count": 42,
   "metadata": {},
   "outputs": [
    {
     "name": "stdout",
     "output_type": "stream",
     "text": [
      "5\n",
      "1\n",
      "15\n",
      "5\n",
      "3.0\n"
     ]
    }
   ],
   "source": [
    "#basic functions of list\n",
    "l=[1,2,3,4,5]\n",
    "print(max(l))\n",
    "print(min(l))\n",
    "print(sum(l))\n",
    "print(len(l))\n",
    "print(sum(l)/len(l))\n"
   ]
  },
  {
   "cell_type": "code",
   "execution_count": 43,
   "metadata": {},
   "outputs": [
    {
     "name": "stdout",
     "output_type": "stream",
     "text": [
      "u\n"
     ]
    }
   ],
   "source": [
    "li=[\"a\",\"b\",\"c\",\"u\"]\n",
    "print(max(li)) #based on ASCII values"
   ]
  },
  {
   "cell_type": "code",
   "execution_count": 47,
   "metadata": {},
   "outputs": [
    {
     "name": "stdout",
     "output_type": "stream",
     "text": [
      "['python', 2, 3, 4, 5]\n"
     ]
    }
   ],
   "source": [
    "l[0]=\"python\" #replace the 0th element in list\n",
    "print(l) "
   ]
  },
  {
   "cell_type": "code",
   "execution_count": 48,
   "metadata": {},
   "outputs": [
    {
     "name": "stdout",
     "output_type": "stream",
     "text": [
      "['python', 2, 3, 5]\n"
     ]
    }
   ],
   "source": [
    "del l[3] #element at 3rd index is deleted in list l \n",
    "print(l)"
   ]
  },
  {
   "cell_type": "code",
   "execution_count": 50,
   "metadata": {},
   "outputs": [
    {
     "ename": "NameError",
     "evalue": "name 'li' is not defined",
     "output_type": "error",
     "traceback": [
      "\u001b[1;31m---------------------------------------------------------------------------\u001b[0m",
      "\u001b[1;31mNameError\u001b[0m                                 Traceback (most recent call last)",
      "\u001b[1;32m<ipython-input-50-ed5be6d0bbc8>\u001b[0m in \u001b[0;36m<module>\u001b[1;34m\u001b[0m\n\u001b[1;32m----> 1\u001b[1;33m \u001b[1;32mdel\u001b[0m \u001b[0mli\u001b[0m \u001b[1;31m#entire list li got deleted\u001b[0m\u001b[1;33m\u001b[0m\u001b[1;33m\u001b[0m\u001b[0m\n\u001b[0m",
      "\u001b[1;31mNameError\u001b[0m: name 'li' is not defined"
     ]
    }
   ],
   "source": [
    "del li #entire list li got deleted"
   ]
  },
  {
   "cell_type": "code",
   "execution_count": 53,
   "metadata": {},
   "outputs": [
    {
     "name": "stdout",
     "output_type": "stream",
     "text": [
      "[1, 2, 3, 4, 5, 6, 1, 2, 3, 4, 5, 6, 1, 2, 3, 4, 5, 6]\n",
      "True\n"
     ]
    }
   ],
   "source": [
    "l=[1,2,3,4,5,6]\n",
    "print(l*3) #list is replicating 3 times.\n",
    "print( 2 in l) #check wether the element is in list or not."
   ]
  },
  {
   "cell_type": "code",
   "execution_count": 63,
   "metadata": {},
   "outputs": [
    {
     "name": "stdout",
     "output_type": "stream",
     "text": [
      "1 2 3 4 5 6 1\n",
      "2\n",
      "3\n",
      "4\n",
      "5\n",
      "6\n"
     ]
    }
   ],
   "source": [
    "#access list using loopz\n",
    "for i in l:\n",
    "    print(i,end=\" \")\n",
    "    \n",
    "    \n",
    "for i in range(len(l)):\n",
    "        print(l[i])"
   ]
  },
  {
   "cell_type": "code",
   "execution_count": 82,
   "metadata": {},
   "outputs": [
    {
     "name": "stdout",
     "output_type": "stream",
     "text": [
      "[1, 2, 3, 4, 5, 6, 7, 'dell']\n"
     ]
    },
    {
     "data": {
      "text/plain": [
       "[5653, 32, 5, 4, 3, 2, 1]"
      ]
     },
     "execution_count": 82,
     "metadata": {},
     "output_type": "execute_result"
    }
   ],
   "source": [
    "#list methods\n",
    "l=[1,2,3,4,5,6,7]\n",
    "l.append(\"dell\") #adding element in the list at last position.\n",
    "print(l)\n",
    "l.insert(1,\"gitam\") #inserting element at index 1\n",
    "l\n",
    "l.count(5) #count respective element\n",
    "l.index(\"gitam\") #to get respective index\n",
    "l.pop() #pop last element\n",
    "l\n",
    "l.pop(1) #pop element with index 1\n",
    "l\n",
    "li=[\"sai\",\"vishwanth\"]\n",
    "l.extend(li) #linking one list to other\n",
    "l\n",
    "s=[1,2,3,4,5,5653,32]\n",
    "s.sort() #sorting\n",
    "s\n",
    "s.reverse() #reversing\n",
    "s"
   ]
  },
  {
   "cell_type": "markdown",
   "metadata": {},
   "source": [
    "### tuple\n",
    "- Tuples are enclosed in Parenthesis()\n",
    "- tuples are immutable ie elements inside a tuple cannot be changed or deleted\n",
    "- modifications are not possible in tuples\n",
    "- tuples are only usefull in accesing data\n",
    "\n"
   ]
  },
  {
   "cell_type": "markdown",
   "metadata": {},
   "source": [
    "### difference between list and tuple:\n",
    "- list---> [], Tuples ---> ()\n",
    "- list is mutable (changes can be made),  tuple is imutable (no changes can be made)"
   ]
  },
  {
   "cell_type": "code",
   "execution_count": 89,
   "metadata": {},
   "outputs": [
    {
     "name": "stdout",
     "output_type": "stream",
     "text": [
      "('Sai', 'hey', 'john')\n",
      "<class 'tuple'>\n",
      "john\n"
     ]
    },
    {
     "ename": "TypeError",
     "evalue": "'tuple' object does not support item assignment",
     "output_type": "error",
     "traceback": [
      "\u001b[1;31m---------------------------------------------------------------------------\u001b[0m",
      "\u001b[1;31mTypeError\u001b[0m                                 Traceback (most recent call last)",
      "\u001b[1;32m<ipython-input-89-c2fa95136c2f>\u001b[0m in \u001b[0;36m<module>\u001b[1;34m\u001b[0m\n\u001b[0;32m      4\u001b[0m \u001b[0mt1\u001b[0m\u001b[1;33m[\u001b[0m\u001b[1;36m0\u001b[0m\u001b[1;33m:\u001b[0m\u001b[1;36m1\u001b[0m\u001b[1;33m]\u001b[0m\u001b[1;33m\u001b[0m\u001b[1;33m\u001b[0m\u001b[0m\n\u001b[0;32m      5\u001b[0m \u001b[0mprint\u001b[0m\u001b[1;33m(\u001b[0m\u001b[0mmax\u001b[0m\u001b[1;33m(\u001b[0m\u001b[0mt1\u001b[0m\u001b[1;33m)\u001b[0m\u001b[1;33m)\u001b[0m\u001b[1;33m\u001b[0m\u001b[1;33m\u001b[0m\u001b[0m\n\u001b[1;32m----> 6\u001b[1;33m \u001b[0mt1\u001b[0m\u001b[1;33m[\u001b[0m\u001b[1;36m0\u001b[0m\u001b[1;33m]\u001b[0m\u001b[1;33m=\u001b[0m\u001b[1;34m\"gitam\"\u001b[0m \u001b[1;31m#tuple is immutable\u001b[0m\u001b[1;33m\u001b[0m\u001b[1;33m\u001b[0m\u001b[0m\n\u001b[0m",
      "\u001b[1;31mTypeError\u001b[0m: 'tuple' object does not support item assignment"
     ]
    }
   ],
   "source": [
    "t1=(\"Sai\",\"hey\",\"john\")\n",
    "print(t1)\n",
    "print(type(t1))\n",
    "t1[0:1]\n",
    "print(max(t1))\n",
    "t1[0]=\"gitam\" #tuple is immutable"
   ]
  },
  {
   "cell_type": "code",
   "execution_count": 91,
   "metadata": {},
   "outputs": [
    {
     "name": "stdout",
     "output_type": "stream",
     "text": [
      "Help on class tuple in module builtins:\n",
      "\n",
      "class tuple(object)\n",
      " |  tuple(iterable=(), /)\n",
      " |  \n",
      " |  Built-in immutable sequence.\n",
      " |  \n",
      " |  If no argument is given, the constructor returns an empty tuple.\n",
      " |  If iterable is specified the tuple is initialized from iterable's items.\n",
      " |  \n",
      " |  If the argument is a tuple, the return value is the same object.\n",
      " |  \n",
      " |  Methods defined here:\n",
      " |  \n",
      " |  __add__(self, value, /)\n",
      " |      Return self+value.\n",
      " |  \n",
      " |  __contains__(self, key, /)\n",
      " |      Return key in self.\n",
      " |  \n",
      " |  __eq__(self, value, /)\n",
      " |      Return self==value.\n",
      " |  \n",
      " |  __ge__(self, value, /)\n",
      " |      Return self>=value.\n",
      " |  \n",
      " |  __getattribute__(self, name, /)\n",
      " |      Return getattr(self, name).\n",
      " |  \n",
      " |  __getitem__(self, key, /)\n",
      " |      Return self[key].\n",
      " |  \n",
      " |  __getnewargs__(self, /)\n",
      " |  \n",
      " |  __gt__(self, value, /)\n",
      " |      Return self>value.\n",
      " |  \n",
      " |  __hash__(self, /)\n",
      " |      Return hash(self).\n",
      " |  \n",
      " |  __iter__(self, /)\n",
      " |      Implement iter(self).\n",
      " |  \n",
      " |  __le__(self, value, /)\n",
      " |      Return self<=value.\n",
      " |  \n",
      " |  __len__(self, /)\n",
      " |      Return len(self).\n",
      " |  \n",
      " |  __lt__(self, value, /)\n",
      " |      Return self<value.\n",
      " |  \n",
      " |  __mul__(self, value, /)\n",
      " |      Return self*value.\n",
      " |  \n",
      " |  __ne__(self, value, /)\n",
      " |      Return self!=value.\n",
      " |  \n",
      " |  __repr__(self, /)\n",
      " |      Return repr(self).\n",
      " |  \n",
      " |  __rmul__(self, value, /)\n",
      " |      Return value*self.\n",
      " |  \n",
      " |  count(self, value, /)\n",
      " |      Return number of occurrences of value.\n",
      " |  \n",
      " |  index(self, value, start=0, stop=9223372036854775807, /)\n",
      " |      Return first index of value.\n",
      " |      \n",
      " |      Raises ValueError if the value is not present.\n",
      " |  \n",
      " |  ----------------------------------------------------------------------\n",
      " |  Static methods defined here:\n",
      " |  \n",
      " |  __new__(*args, **kwargs) from builtins.type\n",
      " |      Create and return a new object.  See help(type) for accurate signature.\n",
      "\n"
     ]
    }
   ],
   "source": [
    "help(\"tuple\") #used to help"
   ]
  },
  {
   "cell_type": "markdown",
   "metadata": {},
   "source": [
    "### Dictionary:- \n",
    "- Dictionaries are always enclosed in {}\n",
    "- it consists of key pairs\n",
    "- each key is separeted to its value by a colon(:)\n",
    "- each  key pair is separated by comma(,)\n",
    "- key must be unique while creating  dict."
   ]
  },
  {
   "cell_type": "code",
   "execution_count": 106,
   "metadata": {},
   "outputs": [
    {
     "name": "stdout",
     "output_type": "stream",
     "text": [
      "{'name': 'Gitam', 'Email id': 'gitam1234@gitam.in', 'Address': 'hyd'}\n",
      "<class 'dict'>\n",
      "dict_values(['Gitam', 'gitam1234@gitam.in', 'hyd'])\n",
      "dict_keys(['name', 'Email id', 'Address'])\n",
      "Gitam\n"
     ]
    },
    {
     "data": {
      "text/plain": [
       "{'name': 'Gitam', 'Email id': 'gitam3454@gitam.in', 'Address': 'hyd'}"
      ]
     },
     "execution_count": 106,
     "metadata": {},
     "output_type": "execute_result"
    }
   ],
   "source": [
    "d1= {\"name\":\"Gitam\",\"Email id\":\"gitam1234@gitam.in\",\"Address\":\"hyd\"}\n",
    "print(d1)\n",
    "print(type(d1))\n",
    "print(d1.values())\n",
    "print(d1.keys())\n",
    "print(d1[\"name\"])\n",
    "d1[\"Email id\"]=\"gitam3454@gitam.in\" #updating\n",
    "d1\n",
    "d1[\"course\"]=\"python\" #adding \"course\"\n",
    "d1\n",
    "del d1[\"course\"] #deleting \"course\"\n",
    "d1\n"
   ]
  },
  {
   "cell_type": "markdown",
   "metadata": {},
   "source": [
    "### Strings\n"
   ]
  },
  {
   "cell_type": "code",
   "execution_count": 110,
   "metadata": {},
   "outputs": [
    {
     "name": "stdout",
     "output_type": "stream",
     "text": [
      "p\n",
      "pyth\n",
      "nohtyp\n"
     ]
    }
   ],
   "source": [
    "s=\"python\"\n",
    "print(s[0])\n",
    "print(s[0:4])\n",
    "print(s[::-1])"
   ]
  },
  {
   "cell_type": "code",
   "execution_count": 118,
   "metadata": {},
   "outputs": [
    {
     "name": "stdout",
     "output_type": "stream",
     "text": [
      "enter your stringmom\n",
      "yes\n"
     ]
    }
   ],
   "source": [
    "def palin(s):\n",
    "    s=input(\"enter your string\")\n",
    "    #l=len(s)\n",
    "    if s==s[::-1]:\n",
    "        print(\"yes\")\n",
    "    else:\n",
    "        print(\"no\")\n",
    "        \n",
    "palin(s)\n",
    "    \n",
    "    "
   ]
  },
  {
   "cell_type": "code",
   "execution_count": null,
   "metadata": {},
   "outputs": [],
   "source": []
  },
  {
   "cell_type": "markdown",
   "metadata": {},
   "source": [
    "### String Methods\n",
    "- join():Method to concatenate the strings\n",
    "- split()\n",
    "- replace()"
   ]
  },
  {
   "cell_type": "code",
   "execution_count": null,
   "metadata": {},
   "outputs": [],
   "source": []
  },
  {
   "cell_type": "code",
   "execution_count": 120,
   "metadata": {},
   "outputs": [
    {
     "name": "stdout",
     "output_type": "stream",
     "text": [
      "p/y/t/h/o/n\n"
     ]
    }
   ],
   "source": [
    "print(\"/\".join(s))\n"
   ]
  },
  {
   "cell_type": "code",
   "execution_count": 126,
   "metadata": {},
   "outputs": [
    {
     "name": "stdout",
     "output_type": "stream",
     "text": [
      "['hey', 'hello', 'hai', 'this', 'is', 'blah']\n",
      "['hey hello h', 'i this is bl', 'h']\n",
      "hey hello bye this is blah\n"
     ]
    }
   ],
   "source": [
    "s2=\"hey hello hai this is blah\"\n",
    "print(s2.split())\n",
    "print(s2.split(\"a\"))\n",
    "print(s2.replace(\"hai\",\"bye\"))"
   ]
  }
 ],
 "metadata": {
  "kernelspec": {
   "display_name": "Python 3",
   "language": "python",
   "name": "python3"
  },
  "language_info": {
   "codemirror_mode": {
    "name": "ipython",
    "version": 3
   },
   "file_extension": ".py",
   "mimetype": "text/x-python",
   "name": "python",
   "nbconvert_exporter": "python",
   "pygments_lexer": "ipython3",
   "version": "3.7.4"
  }
 },
 "nbformat": 4,
 "nbformat_minor": 2
}
